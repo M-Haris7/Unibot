{
 "cells": [
  {
   "cell_type": "code",
   "execution_count": 3,
   "id": "1611cace",
   "metadata": {},
   "outputs": [
    {
     "name": "stdout",
     "output_type": "stream",
     "text": [
      "Hello\n"
     ]
    }
   ],
   "source": [
    "print(\"Hello\")"
   ]
  },
  {
   "cell_type": "code",
   "execution_count": 4,
   "id": "6900732a",
   "metadata": {},
   "outputs": [
    {
     "data": {
      "text/plain": [
       "'e:\\\\Unibot\\\\research'"
      ]
     },
     "execution_count": 4,
     "metadata": {},
     "output_type": "execute_result"
    }
   ],
   "source": [
    "%pwd"
   ]
  },
  {
   "cell_type": "code",
   "execution_count": 5,
   "id": "8315db4b",
   "metadata": {},
   "outputs": [],
   "source": [
    "import os\n",
    "os.chdir(\"../\")"
   ]
  },
  {
   "cell_type": "code",
   "execution_count": 6,
   "id": "4136a7f5",
   "metadata": {},
   "outputs": [
    {
     "data": {
      "text/plain": [
       "'e:\\\\Unibot'"
      ]
     },
     "execution_count": 6,
     "metadata": {},
     "output_type": "execute_result"
    }
   ],
   "source": [
    "%pwd"
   ]
  },
  {
   "cell_type": "code",
   "execution_count": 7,
   "id": "3809a717",
   "metadata": {},
   "outputs": [],
   "source": [
    "from langchain.document_loaders import PyPDFLoader, DirectoryLoader\n",
    "from langchain.text_splitter import RecursiveCharacterTextSplitter"
   ]
  },
  {
   "cell_type": "code",
   "execution_count": 8,
   "id": "0b4f4b6c",
   "metadata": {},
   "outputs": [],
   "source": [
    "# Extract text from pdf file\n",
    "def load_pdf_files(data):\n",
    "    loader = DirectoryLoader(\n",
    "        data, # path\n",
    "        glob=\"*.pdf\", # loads all the file with .pdf extension\n",
    "        loader_cls=PyPDFLoader\n",
    "    )\n",
    "\n",
    "    documents = loader.load()\n",
    "    return documents"
   ]
  },
  {
   "cell_type": "code",
   "execution_count": 9,
   "id": "fc6986b2",
   "metadata": {},
   "outputs": [
    {
     "name": "stdout",
     "output_type": "stream",
     "text": [
      "[Document(metadata={'producer': 'www.ilovepdf.com', 'creator': 'Microsoft® Word 2016', 'creationdate': '2025-09-08T06:40:24+00:00', 'author': 'Mohammad Haris', 'moddate': '2025-09-08T06:40:24+00:00', 'source': 'data\\\\Uniworld Studios.pdf', 'total_pages': 8, 'page': 0, 'page_label': '1'}, page_content=\"Uniworld Studios: Company Profile and Services \\n1. Company Overview \\nUniworld Studios is a marketing agency based in Delhi NCR, described as the region's fastest-growing \\nmarketing giant. With over a decade of experience, the agency focuses on nurturing brands, building \\nstrategies, and evolving businesses into brand experiences. \\nKey Metrics \\n\\uf0b7 Experience: 10+ Years \\n\\uf0b7 Clients: 600+ Satisfied Clients \\n\\uf0b7 Global Reach: 20+ Countries Served \\n\\uf0b7 Websites Developed: 500+ \\n\\uf0b7 Designs Delivered: 100,000+ \\n\\uf0b7 Leads Generated: 4.5 Million+ \\n\\uf0b7 Sales Pipeline Created: 2 Billion+ \\n\\uf0b7 Sales Generated: 350 Million+ \\nFounder & CEO: Saransh Gupta \\nSaransh Gupta is a dynamic business and marketing expert who delivers key marketing strategies and \\nmanages business operations at Uniworld Studios. A serial entrepreneur, he has vested interests in \\nfamily-managed Iron & Steel, Real Estate development, and Construction sectors, along with \\nestablishing education, consultancy, and media wings. His diversified, hands-on managerial \\nexperience allows him to understand and adopt any business as his own. \\n2. Core Services \\nUniworld Studios offers 360° bespoke solutions to create definitive impressions. \\n2.1. Brand Building \\nWe handhold your brand from mere existence to flourishing online visibility. Through effective \\nstorytelling, a 360° actionable marketing strategy, meaningful engagement, and consistent traffic, we \\nbuild your brand to drive optimal results. Our services include Content Marketing, ORM (Online \\nReputation Management), PR Management, and Offline Branding. \\n2.2. Performance Marketing \\nWith the objective of optimizing ROI for every penny spent, our team designs cost-effective \\ncampaigns to deliver tangible outcomes. We monitor the latest digital trends and changing consumer \\nbehavior to maximize ROI for your ad spends, with a bull's-eye focus on generating leads, driving \\ntraffic, and building a sales pipeline. \\n2.3. Graphics Design \\nFueled by creativity, we use the power of art to inform, connect, inspire, and grow brands. \\nCombining traditional and modern marketing methods, we uncover fresh ideas and exceptional \\nexperiences through design to drive business growth, customer loyalty, and passionate audiences.\"), Document(metadata={'producer': 'www.ilovepdf.com', 'creator': 'Microsoft® Word 2016', 'creationdate': '2025-09-08T06:40:24+00:00', 'author': 'Mohammad Haris', 'moddate': '2025-09-08T06:40:24+00:00', 'source': 'data\\\\Uniworld Studios.pdf', 'total_pages': 8, 'page': 1, 'page_label': '2'}, page_content='2.4. Web Experiences \\nA website is an experience. Our website architects meticulously craft a seamless web experience for \\nall e-visitors, ensuring navigation, transition, and UI/UX are in sync with your business objectives. We \\ndesign and develop visually appealing, technically sound, and strategically planned bespoke \\nWebsites, E-stores, and Landing Pages. \\n2.5. E-Store Development \\nWe build sound and stunning e-stores that scale your revenue. With expertise in creating seamless \\nUI/UX, data-backed content, and high-performing e-commerce stores, we help businesses upscale \\ntheir growth. This leads to widened brand visibility, improved Google ranking, and higher market \\nabsorption. \\n2.6. Content Writing \\nContent is the heart and soul of creativity. We weave stories that create an indelible brand recall \\nvalue with your audiences. Our strategic content writing and marketing expertise helps create high-\\nquality editorial content tuned to your business objectives and the ever-evolving SEO landscape to \\ngain maximum traction. \\n2.7. Offline Media \\nWe market your brand at its core with offline channels like radio, TV ads, and billboards. Our offline \\nmediums include Below the Line (BTL) marketing such as pamphlets, posters, and hoardings to ignite \\nbrand awareness, recognition, and association with the target audience. \\n2.8. Strategic Consulting \\nA sound strategy lays the foundation for a thriving business. We help small, medium, and large-scale \\nbusinesses yield desired results with the perfect amalgamation of tailor-made strategies and \\ngroundbreaking solutions. We customize strategies to bridge internal gaps and bulletproof \\nbusinesses against common market failures. \\n3. AI Video Production \\nAt Uniworld Studios, we transform imagination into immersive reality through our AI-powered media \\nproduction services. We help brands tell unforgettable stories with stunning, studio-quality visuals—\\ncrafted with precision, speed, and surprising affordability. Our AI arsenal lets us generate images, \\nvideos, voiceovers, 3D walkthroughs, and dynamic social content. With 95% faster production cycles \\nand up to 75% cost savings, we empower visionaries across FMCG, real estate, tech, and beyond. \\n4. Clientele & Portfolio \\n4.1. Brand Building Clients \\n\\uf0b7 NutroYumm \\n\\uf0b7 Shine Your Dine \\n\\uf0b7 Visio World \\n\\uf0b7 Tangenz Corporation \\n\\uf0b7 RRPL'), Document(metadata={'producer': 'www.ilovepdf.com', 'creator': 'Microsoft® Word 2016', 'creationdate': '2025-09-08T06:40:24+00:00', 'author': 'Mohammad Haris', 'moddate': '2025-09-08T06:40:24+00:00', 'source': 'data\\\\Uniworld Studios.pdf', 'total_pages': 8, 'page': 2, 'page_label': '3'}, page_content=\"\\uf0b7 Elite Entrepreneur’s Club \\n\\uf0b7 Taswiq Fakham \\n\\uf0b7 RentIt4Me \\n\\uf0b7 Winning Mantra \\n\\uf0b7 Succor Trendz \\n\\uf0b7 Peggy Icecream \\n\\uf0b7 Karim's \\n\\uf0b7 Baithak \\n\\uf0b7 Kevin \\n\\uf0b7 The Modern School Faridabad \\n\\uf0b7 Tulip Monsella \\n\\uf0b7 Green Chef \\n\\uf0b7 Bunkoo's \\n\\uf0b7 Huntin Organics \\n\\uf0b7 EP Kamat Group \\n\\uf0b7 Beston \\n\\uf0b7 Delhi Barbeque \\n\\uf0b7 Delon Canada \\n\\uf0b7 Dirty Works \\n\\uf0b7 Midson Capital Ventures \\n\\uf0b7 Modern Early Years \\n\\uf0b7 Mogu Mogu \\n\\uf0b7 Nature's Absolutes \\n\\uf0b7 The Little Bunting \\n\\uf0b7 The Modern School ECNCR \\n\\uf0b7 Whiteland \\n\\uf0b7 SMR \\n\\uf0b7 TTS \\n\\uf0b7 Tajurba \\n\\uf0b7 Scaler Studios \\n4.2. Web Development Clients\"), Document(metadata={'producer': 'www.ilovepdf.com', 'creator': 'Microsoft® Word 2016', 'creationdate': '2025-09-08T06:40:24+00:00', 'author': 'Mohammad Haris', 'moddate': '2025-09-08T06:40:24+00:00', 'source': 'data\\\\Uniworld Studios.pdf', 'total_pages': 8, 'page': 3, 'page_label': '4'}, page_content='\\uf0b7 Private Wealth Trust \\n\\uf0b7 PCJS Group \\n\\uf0b7 TnS \\n\\uf0b7 Poojitha \\n\\uf0b7 RRPL \\n\\uf0b7 Dr Suniti Goel \\n\\uf0b7 ESPL \\n\\uf0b7 IELTS Guru \\n\\uf0b7 SMR \\n\\uf0b7 Tiju \\n\\uf0b7 Extreme Engineering \\n\\uf0b7 Mekanshi \\n\\uf0b7 Meatington \\n\\uf0b7 Aarnaaz \\n\\uf0b7 Meritus \\n\\uf0b7 NCAER \\n\\uf0b7 Time Hotel \\n\\uf0b7 Becmann \\n\\uf0b7 Tajurba \\n\\uf0b7 AMLTool \\n\\uf0b7 Steel Junction \\n\\uf0b7 The Modern School \\n\\uf0b7 Whiteland Blissville \\n\\uf0b7 Superminis \\n\\uf0b7 Modern Early Years \\n\\uf0b7 Taswiq Fakham \\n\\uf0b7 The Brand Bakers \\n\\uf0b7 Plush Kraft \\n\\uf0b7 Tranquillitas \\n\\uf0b7 Kevin Asia \\n\\uf0b7 Apoorvahans'), Document(metadata={'producer': 'www.ilovepdf.com', 'creator': 'Microsoft® Word 2016', 'creationdate': '2025-09-08T06:40:24+00:00', 'author': 'Mohammad Haris', 'moddate': '2025-09-08T06:40:24+00:00', 'source': 'data\\\\Uniworld Studios.pdf', 'total_pages': 8, 'page': 4, 'page_label': '5'}, page_content='\\uf0b7 The Modern School Faridabad \\n\\uf0b7 The Little Bunting \\n\\uf0b7 Nature Absolutes \\n\\uf0b7 Bhatiya Alloy \\n\\uf0b7 Tulip Monsella \\n\\uf0b7 Midson Advisors \\n\\uf0b7 Rent It 4 Me \\n\\uf0b7 Huntin Organics \\n\\uf0b7 Speckyfox \\n\\uf0b7 Oorjit \\n\\uf0b7 Nutroyumm \\n\\uf0b7 Jupa \\n\\uf0b7 Motorhunk \\n\\uf0b7 Flabbye \\n\\uf0b7 Kanodia Global \\n\\uf0b7 Tangenz \\n\\uf0b7 Sarantorach \\n\\uf0b7 Kingsway \\n\\uf0b7 Myfinpartner \\n\\uf0b7 Rps Auria Residences \\n\\uf0b7 Dont Hire \\n\\uf0b7 Mint Exports \\n\\uf0b7 White Lilly \\n\\uf0b7 Midson Capital Ventures \\n\\uf0b7 MGNL \\n\\uf0b7 Prabhat Realty \\n\\uf0b7 Arc Corporate Advisors \\n\\uf0b7 CEO IT Box \\n\\uf0b7 Indian Rishte \\n\\uf0b7 Neeev \\n\\uf0b7 Succor Trendz'), Document(metadata={'producer': 'www.ilovepdf.com', 'creator': 'Microsoft® Word 2016', 'creationdate': '2025-09-08T06:40:24+00:00', 'author': 'Mohammad Haris', 'moddate': '2025-09-08T06:40:24+00:00', 'source': 'data\\\\Uniworld Studios.pdf', 'total_pages': 8, 'page': 5, 'page_label': '6'}, page_content='\\uf0b7 Homezstop \\n\\uf0b7 Weight Loss Studios \\n\\uf0b7 VCAJ \\n\\uf0b7 TSI Displays \\n\\uf0b7 SM Easy \\n\\uf0b7 Sant Sujan Singhji International School \\n\\uf0b7 Primordial Center Of Excellence \\n\\uf0b7 NM Global \\n\\uf0b7 The Modern School ENCR \\n\\uf0b7 Kingdom Of Esther \\n\\uf0b7 Innerform \\n\\uf0b7 GSS Group \\n\\uf0b7 FSSDE \\n\\uf0b7 Ethos Accounting \\n\\uf0b7 Darley Engineers \\n\\uf0b7 CXO Exclusive \\n\\uf0b7 An Products \\n\\uf0b7 Businessarin \\n\\uf0b7 Absentia \\n\\uf0b7 Uniworld Studios \\n4.3. E-Store Clients \\n\\uf0b7 Mekanshi \\n\\uf0b7 Meatington \\n\\uf0b7 Aarnaaz \\n\\uf0b7 Meritus \\n\\uf0b7 Superminis \\n\\uf0b7 The little bunting \\n\\uf0b7 Plush Kraft \\n\\uf0b7 Nutroyumm \\n\\uf0b7 Apoorva Hans \\n\\uf0b7 Steel Junction'), Document(metadata={'producer': 'www.ilovepdf.com', 'creator': 'Microsoft® Word 2016', 'creationdate': '2025-09-08T06:40:24+00:00', 'author': 'Mohammad Haris', 'moddate': '2025-09-08T06:40:24+00:00', 'source': 'data\\\\Uniworld Studios.pdf', 'total_pages': 8, 'page': 6, 'page_label': '7'}, page_content='\\uf0b7 Kevin Asia 2.0 \\n\\uf0b7 Motorhunk \\n\\uf0b7 Jupa \\n\\uf0b7 Oorjit \\n\\uf0b7 Nature\\'s Absolutes \\n\\uf0b7 Succor \\n\\uf0b7 Kevin Asia \\n\\uf0b7 Homezstop \\n\\uf0b7 Mintexports \\n\\uf0b7 Hamaan \\n4.4. Offline Media Portfolio Items \\n\\uf0b7 Brochure \\n\\uf0b7 Carry Bag \\n\\uf0b7 Exhibition Graphics \\n\\uf0b7 Hoarding \\n\\uf0b7 Logo Design \\n\\uf0b7 Magazine Ad \\n\\uf0b7 Newspaper ad \\n\\uf0b7 Packaging \\n\\uf0b7 Pamphlet \\n\\uf0b7 Poster \\n\\uf0b7 Standee \\n\\uf0b7 Stationery \\n5. Client Testimonials \\n\\uf0b7 Dr Suresh Mansharamani, OKR Coach & Co-Founder Tajurba Business Network Pvt Ltd: \"I \\nneeded help with some high-end websites and Digital Marketing... To my surprise, his \\nexecution and delivery were exactly what I had expected. He just interpreted my words into \\naction.\" \\n\\uf0b7 Prabal Arora, VP Global Expansion & Angel Investor: \"Team Uniworld helped me with the \\ndevelopment of the website. They were very responsive throughout the project... I am \\ndelighted with the kind of work they’ve delivered so far.\"'), Document(metadata={'producer': 'www.ilovepdf.com', 'creator': 'Microsoft® Word 2016', 'creationdate': '2025-09-08T06:40:24+00:00', 'author': 'Mohammad Haris', 'moddate': '2025-09-08T06:40:24+00:00', 'source': 'data\\\\Uniworld Studios.pdf', 'total_pages': 8, 'page': 7, 'page_label': '8'}, page_content='\\uf0b7 Pawan Singhal, Security Printing: \"I can bet that anybody who sees his work will fall in love \\nwith it. I highly recommend Saransh Gupta for his niche of web development, digital \\nmarketing, much much more. His concepts are miles ahead.\" \\n\\uf0b7 Amit Verma, Global Ayurveda Doctor & Health and Wellness Coach: \"He knows his work \\nvery well and gives you immediate solution for your issues... i should say i have never seen \\nsuch clean and amazing website in field of ayurveda products.\" \\n\\uf0b7 Ashish Ahuja, Director, V Connect Infrastructure Pvt Ltd: \"A great digital partner to be with. \\nWe found Mr Saransh very professional all the time. His key strategies towards building a \\nbrand has been worth spending.\" \\n\\uf0b7 Deepak Menda, Proprietor at NM Global Real Estate: \"I recommend saransh for his ability \\nto understand and deliver to his clients requirement. I assure everyone that you will get \\nvalue for your money spent when you deal with his firm.\" \\n\\uf0b7 Raj Jain, Sales & Marketing: \"I\\'ve known Saransh Gupta and Uniworld Studios for over 3 \\nyears and appreciate Saransh\\'s impeccable knowledge in digital and social media to \\nunderstand client\\'s need. He\\'s also very diligent with his deliveries and flexible in his \\napproach.\" \\n6. Blog & Insights \\n\\uf0b7 Essential Marketing & Advertising Keywords 2025 (20th August 2025) \\n\\uf0b7 Instagram’s Latest Analytics Tools for Creators (18th August 2025) \\n\\uf0b7 Best Independence Day Ads That Inspire India (14th August 2025) \\n\\uf0b7 Content Marketing Trends to Watch in 2025 (06th August 2025) \\n7. Contact Information \\n\\uf0b7 India Office: Uniworld Studios Pvt. Ltd. Unit No-416, Fbd One Complex, Sector 37, Faridabad, \\nDelhi NCR, India \\n\\uf0b7 Dubai Office: 3306 Concord Tower, Dubai Media City, PO Box 643625, Dubai, United Arab \\nEmirates \\n\\uf0b7 Phone: +91 9810030370 \\n\\uf0b7 E-mail: info@uniworldstudios.com')]\n"
     ]
    }
   ],
   "source": [
    "extracted_data = load_pdf_files(\"data\")\n",
    "print(extracted_data)"
   ]
  },
  {
   "cell_type": "code",
   "execution_count": 10,
   "metadata": {},
   "outputs": [
    {
     "data": {
      "text/plain": [
       "8"
      ]
     },
     "execution_count": 10,
     "metadata": {},
     "output_type": "execute_result"
    }
   ],
   "source": [
    "len(extracted_data)"
   ]
  },
  {
   "cell_type": "code",
   "execution_count": 11,
   "metadata": {},
   "outputs": [],
   "source": [
    "# Just taking source and page content\n",
    "from typing import List\n",
    "from langchain.schema import Document\n",
    "\n",
    "def filter_to_docs_minimal(docs: List[Document]) -> List[Document]:\n",
    "    minimal_docs: List[Document] = []\n",
    "    for doc in docs:\n",
    "        src = doc.metadata.get(\"source\")\n",
    "        minimal_docs.append(\n",
    "            Document(\n",
    "                page_content = doc.page_content,\n",
    "                metadata = {\"source\": src}\n",
    "            )\n",
    "        )\n",
    "    return minimal_docs"
   ]
  },
  {
   "cell_type": "code",
   "execution_count": 12,
   "metadata": {},
   "outputs": [
    {
     "name": "stdout",
     "output_type": "stream",
     "text": [
      "[Document(metadata={'source': 'data\\\\Uniworld Studios.pdf'}, page_content=\"Uniworld Studios: Company Profile and Services \\n1. Company Overview \\nUniworld Studios is a marketing agency based in Delhi NCR, described as the region's fastest-growing \\nmarketing giant. With over a decade of experience, the agency focuses on nurturing brands, building \\nstrategies, and evolving businesses into brand experiences. \\nKey Metrics \\n\\uf0b7 Experience: 10+ Years \\n\\uf0b7 Clients: 600+ Satisfied Clients \\n\\uf0b7 Global Reach: 20+ Countries Served \\n\\uf0b7 Websites Developed: 500+ \\n\\uf0b7 Designs Delivered: 100,000+ \\n\\uf0b7 Leads Generated: 4.5 Million+ \\n\\uf0b7 Sales Pipeline Created: 2 Billion+ \\n\\uf0b7 Sales Generated: 350 Million+ \\nFounder & CEO: Saransh Gupta \\nSaransh Gupta is a dynamic business and marketing expert who delivers key marketing strategies and \\nmanages business operations at Uniworld Studios. A serial entrepreneur, he has vested interests in \\nfamily-managed Iron & Steel, Real Estate development, and Construction sectors, along with \\nestablishing education, consultancy, and media wings. His diversified, hands-on managerial \\nexperience allows him to understand and adopt any business as his own. \\n2. Core Services \\nUniworld Studios offers 360° bespoke solutions to create definitive impressions. \\n2.1. Brand Building \\nWe handhold your brand from mere existence to flourishing online visibility. Through effective \\nstorytelling, a 360° actionable marketing strategy, meaningful engagement, and consistent traffic, we \\nbuild your brand to drive optimal results. Our services include Content Marketing, ORM (Online \\nReputation Management), PR Management, and Offline Branding. \\n2.2. Performance Marketing \\nWith the objective of optimizing ROI for every penny spent, our team designs cost-effective \\ncampaigns to deliver tangible outcomes. We monitor the latest digital trends and changing consumer \\nbehavior to maximize ROI for your ad spends, with a bull's-eye focus on generating leads, driving \\ntraffic, and building a sales pipeline. \\n2.3. Graphics Design \\nFueled by creativity, we use the power of art to inform, connect, inspire, and grow brands. \\nCombining traditional and modern marketing methods, we uncover fresh ideas and exceptional \\nexperiences through design to drive business growth, customer loyalty, and passionate audiences.\"), Document(metadata={'source': 'data\\\\Uniworld Studios.pdf'}, page_content='2.4. Web Experiences \\nA website is an experience. Our website architects meticulously craft a seamless web experience for \\nall e-visitors, ensuring navigation, transition, and UI/UX are in sync with your business objectives. We \\ndesign and develop visually appealing, technically sound, and strategically planned bespoke \\nWebsites, E-stores, and Landing Pages. \\n2.5. E-Store Development \\nWe build sound and stunning e-stores that scale your revenue. With expertise in creating seamless \\nUI/UX, data-backed content, and high-performing e-commerce stores, we help businesses upscale \\ntheir growth. This leads to widened brand visibility, improved Google ranking, and higher market \\nabsorption. \\n2.6. Content Writing \\nContent is the heart and soul of creativity. We weave stories that create an indelible brand recall \\nvalue with your audiences. Our strategic content writing and marketing expertise helps create high-\\nquality editorial content tuned to your business objectives and the ever-evolving SEO landscape to \\ngain maximum traction. \\n2.7. Offline Media \\nWe market your brand at its core with offline channels like radio, TV ads, and billboards. Our offline \\nmediums include Below the Line (BTL) marketing such as pamphlets, posters, and hoardings to ignite \\nbrand awareness, recognition, and association with the target audience. \\n2.8. Strategic Consulting \\nA sound strategy lays the foundation for a thriving business. We help small, medium, and large-scale \\nbusinesses yield desired results with the perfect amalgamation of tailor-made strategies and \\ngroundbreaking solutions. We customize strategies to bridge internal gaps and bulletproof \\nbusinesses against common market failures. \\n3. AI Video Production \\nAt Uniworld Studios, we transform imagination into immersive reality through our AI-powered media \\nproduction services. We help brands tell unforgettable stories with stunning, studio-quality visuals—\\ncrafted with precision, speed, and surprising affordability. Our AI arsenal lets us generate images, \\nvideos, voiceovers, 3D walkthroughs, and dynamic social content. With 95% faster production cycles \\nand up to 75% cost savings, we empower visionaries across FMCG, real estate, tech, and beyond. \\n4. Clientele & Portfolio \\n4.1. Brand Building Clients \\n\\uf0b7 NutroYumm \\n\\uf0b7 Shine Your Dine \\n\\uf0b7 Visio World \\n\\uf0b7 Tangenz Corporation \\n\\uf0b7 RRPL'), Document(metadata={'source': 'data\\\\Uniworld Studios.pdf'}, page_content=\"\\uf0b7 Elite Entrepreneur’s Club \\n\\uf0b7 Taswiq Fakham \\n\\uf0b7 RentIt4Me \\n\\uf0b7 Winning Mantra \\n\\uf0b7 Succor Trendz \\n\\uf0b7 Peggy Icecream \\n\\uf0b7 Karim's \\n\\uf0b7 Baithak \\n\\uf0b7 Kevin \\n\\uf0b7 The Modern School Faridabad \\n\\uf0b7 Tulip Monsella \\n\\uf0b7 Green Chef \\n\\uf0b7 Bunkoo's \\n\\uf0b7 Huntin Organics \\n\\uf0b7 EP Kamat Group \\n\\uf0b7 Beston \\n\\uf0b7 Delhi Barbeque \\n\\uf0b7 Delon Canada \\n\\uf0b7 Dirty Works \\n\\uf0b7 Midson Capital Ventures \\n\\uf0b7 Modern Early Years \\n\\uf0b7 Mogu Mogu \\n\\uf0b7 Nature's Absolutes \\n\\uf0b7 The Little Bunting \\n\\uf0b7 The Modern School ECNCR \\n\\uf0b7 Whiteland \\n\\uf0b7 SMR \\n\\uf0b7 TTS \\n\\uf0b7 Tajurba \\n\\uf0b7 Scaler Studios \\n4.2. Web Development Clients\"), Document(metadata={'source': 'data\\\\Uniworld Studios.pdf'}, page_content='\\uf0b7 Private Wealth Trust \\n\\uf0b7 PCJS Group \\n\\uf0b7 TnS \\n\\uf0b7 Poojitha \\n\\uf0b7 RRPL \\n\\uf0b7 Dr Suniti Goel \\n\\uf0b7 ESPL \\n\\uf0b7 IELTS Guru \\n\\uf0b7 SMR \\n\\uf0b7 Tiju \\n\\uf0b7 Extreme Engineering \\n\\uf0b7 Mekanshi \\n\\uf0b7 Meatington \\n\\uf0b7 Aarnaaz \\n\\uf0b7 Meritus \\n\\uf0b7 NCAER \\n\\uf0b7 Time Hotel \\n\\uf0b7 Becmann \\n\\uf0b7 Tajurba \\n\\uf0b7 AMLTool \\n\\uf0b7 Steel Junction \\n\\uf0b7 The Modern School \\n\\uf0b7 Whiteland Blissville \\n\\uf0b7 Superminis \\n\\uf0b7 Modern Early Years \\n\\uf0b7 Taswiq Fakham \\n\\uf0b7 The Brand Bakers \\n\\uf0b7 Plush Kraft \\n\\uf0b7 Tranquillitas \\n\\uf0b7 Kevin Asia \\n\\uf0b7 Apoorvahans'), Document(metadata={'source': 'data\\\\Uniworld Studios.pdf'}, page_content='\\uf0b7 The Modern School Faridabad \\n\\uf0b7 The Little Bunting \\n\\uf0b7 Nature Absolutes \\n\\uf0b7 Bhatiya Alloy \\n\\uf0b7 Tulip Monsella \\n\\uf0b7 Midson Advisors \\n\\uf0b7 Rent It 4 Me \\n\\uf0b7 Huntin Organics \\n\\uf0b7 Speckyfox \\n\\uf0b7 Oorjit \\n\\uf0b7 Nutroyumm \\n\\uf0b7 Jupa \\n\\uf0b7 Motorhunk \\n\\uf0b7 Flabbye \\n\\uf0b7 Kanodia Global \\n\\uf0b7 Tangenz \\n\\uf0b7 Sarantorach \\n\\uf0b7 Kingsway \\n\\uf0b7 Myfinpartner \\n\\uf0b7 Rps Auria Residences \\n\\uf0b7 Dont Hire \\n\\uf0b7 Mint Exports \\n\\uf0b7 White Lilly \\n\\uf0b7 Midson Capital Ventures \\n\\uf0b7 MGNL \\n\\uf0b7 Prabhat Realty \\n\\uf0b7 Arc Corporate Advisors \\n\\uf0b7 CEO IT Box \\n\\uf0b7 Indian Rishte \\n\\uf0b7 Neeev \\n\\uf0b7 Succor Trendz'), Document(metadata={'source': 'data\\\\Uniworld Studios.pdf'}, page_content='\\uf0b7 Homezstop \\n\\uf0b7 Weight Loss Studios \\n\\uf0b7 VCAJ \\n\\uf0b7 TSI Displays \\n\\uf0b7 SM Easy \\n\\uf0b7 Sant Sujan Singhji International School \\n\\uf0b7 Primordial Center Of Excellence \\n\\uf0b7 NM Global \\n\\uf0b7 The Modern School ENCR \\n\\uf0b7 Kingdom Of Esther \\n\\uf0b7 Innerform \\n\\uf0b7 GSS Group \\n\\uf0b7 FSSDE \\n\\uf0b7 Ethos Accounting \\n\\uf0b7 Darley Engineers \\n\\uf0b7 CXO Exclusive \\n\\uf0b7 An Products \\n\\uf0b7 Businessarin \\n\\uf0b7 Absentia \\n\\uf0b7 Uniworld Studios \\n4.3. E-Store Clients \\n\\uf0b7 Mekanshi \\n\\uf0b7 Meatington \\n\\uf0b7 Aarnaaz \\n\\uf0b7 Meritus \\n\\uf0b7 Superminis \\n\\uf0b7 The little bunting \\n\\uf0b7 Plush Kraft \\n\\uf0b7 Nutroyumm \\n\\uf0b7 Apoorva Hans \\n\\uf0b7 Steel Junction'), Document(metadata={'source': 'data\\\\Uniworld Studios.pdf'}, page_content='\\uf0b7 Kevin Asia 2.0 \\n\\uf0b7 Motorhunk \\n\\uf0b7 Jupa \\n\\uf0b7 Oorjit \\n\\uf0b7 Nature\\'s Absolutes \\n\\uf0b7 Succor \\n\\uf0b7 Kevin Asia \\n\\uf0b7 Homezstop \\n\\uf0b7 Mintexports \\n\\uf0b7 Hamaan \\n4.4. Offline Media Portfolio Items \\n\\uf0b7 Brochure \\n\\uf0b7 Carry Bag \\n\\uf0b7 Exhibition Graphics \\n\\uf0b7 Hoarding \\n\\uf0b7 Logo Design \\n\\uf0b7 Magazine Ad \\n\\uf0b7 Newspaper ad \\n\\uf0b7 Packaging \\n\\uf0b7 Pamphlet \\n\\uf0b7 Poster \\n\\uf0b7 Standee \\n\\uf0b7 Stationery \\n5. Client Testimonials \\n\\uf0b7 Dr Suresh Mansharamani, OKR Coach & Co-Founder Tajurba Business Network Pvt Ltd: \"I \\nneeded help with some high-end websites and Digital Marketing... To my surprise, his \\nexecution and delivery were exactly what I had expected. He just interpreted my words into \\naction.\" \\n\\uf0b7 Prabal Arora, VP Global Expansion & Angel Investor: \"Team Uniworld helped me with the \\ndevelopment of the website. They were very responsive throughout the project... I am \\ndelighted with the kind of work they’ve delivered so far.\"'), Document(metadata={'source': 'data\\\\Uniworld Studios.pdf'}, page_content='\\uf0b7 Pawan Singhal, Security Printing: \"I can bet that anybody who sees his work will fall in love \\nwith it. I highly recommend Saransh Gupta for his niche of web development, digital \\nmarketing, much much more. His concepts are miles ahead.\" \\n\\uf0b7 Amit Verma, Global Ayurveda Doctor & Health and Wellness Coach: \"He knows his work \\nvery well and gives you immediate solution for your issues... i should say i have never seen \\nsuch clean and amazing website in field of ayurveda products.\" \\n\\uf0b7 Ashish Ahuja, Director, V Connect Infrastructure Pvt Ltd: \"A great digital partner to be with. \\nWe found Mr Saransh very professional all the time. His key strategies towards building a \\nbrand has been worth spending.\" \\n\\uf0b7 Deepak Menda, Proprietor at NM Global Real Estate: \"I recommend saransh for his ability \\nto understand and deliver to his clients requirement. I assure everyone that you will get \\nvalue for your money spent when you deal with his firm.\" \\n\\uf0b7 Raj Jain, Sales & Marketing: \"I\\'ve known Saransh Gupta and Uniworld Studios for over 3 \\nyears and appreciate Saransh\\'s impeccable knowledge in digital and social media to \\nunderstand client\\'s need. He\\'s also very diligent with his deliveries and flexible in his \\napproach.\" \\n6. Blog & Insights \\n\\uf0b7 Essential Marketing & Advertising Keywords 2025 (20th August 2025) \\n\\uf0b7 Instagram’s Latest Analytics Tools for Creators (18th August 2025) \\n\\uf0b7 Best Independence Day Ads That Inspire India (14th August 2025) \\n\\uf0b7 Content Marketing Trends to Watch in 2025 (06th August 2025) \\n7. Contact Information \\n\\uf0b7 India Office: Uniworld Studios Pvt. Ltd. Unit No-416, Fbd One Complex, Sector 37, Faridabad, \\nDelhi NCR, India \\n\\uf0b7 Dubai Office: 3306 Concord Tower, Dubai Media City, PO Box 643625, Dubai, United Arab \\nEmirates \\n\\uf0b7 Phone: +91 9810030370 \\n\\uf0b7 E-mail: info@uniworldstudios.com')]\n"
     ]
    }
   ],
   "source": [
    "minimal_docs = filter_to_docs_minimal(extracted_data)\n",
    "print(minimal_docs)"
   ]
  },
  {
   "cell_type": "code",
   "execution_count": 51,
   "metadata": {},
   "outputs": [],
   "source": [
    "# Split the dcocuments into chunks\n",
    "def text_split(minimal_docs):\n",
    "    text_splitter = RecursiveCharacterTextSplitter(\n",
    "        chunk_size = 150,\n",
    "        chunk_overlap = 50\n",
    "    )\n",
    "    texts_chunk = text_splitter.split_documents(minimal_docs)\n",
    "    return texts_chunk"
   ]
  },
  {
   "cell_type": "code",
   "execution_count": 52,
   "metadata": {},
   "outputs": [
    {
     "name": "stdout",
     "output_type": "stream",
     "text": [
      "Number of chunks: 93\n"
     ]
    }
   ],
   "source": [
    "text_chunk = text_split(minimal_docs)\n",
    "print(f\"Number of chunks: {len(text_chunk)}\")"
   ]
  },
  {
   "cell_type": "code",
   "execution_count": 53,
   "metadata": {},
   "outputs": [
    {
     "data": {
      "text/plain": [
       "[Document(metadata={'source': 'data\\\\Uniworld Studios.pdf'}, page_content='Uniworld Studios: Company Profile and Services \\n1. Company Overview'),\n",
       " Document(metadata={'source': 'data\\\\Uniworld Studios.pdf'}, page_content=\"1. Company Overview \\nUniworld Studios is a marketing agency based in Delhi NCR, described as the region's fastest-growing\"),\n",
       " Document(metadata={'source': 'data\\\\Uniworld Studios.pdf'}, page_content='marketing giant. With over a decade of experience, the agency focuses on nurturing brands, building'),\n",
       " Document(metadata={'source': 'data\\\\Uniworld Studios.pdf'}, page_content='strategies, and evolving businesses into brand experiences. \\nKey Metrics \\n\\uf0b7 Experience: 10+ Years \\n\\uf0b7 Clients: 600+ Satisfied Clients'),\n",
       " Document(metadata={'source': 'data\\\\Uniworld Studios.pdf'}, page_content='\\uf0b7 Clients: 600+ Satisfied Clients \\n\\uf0b7 Global Reach: 20+ Countries Served \\n\\uf0b7 Websites Developed: 500+ \\n\\uf0b7 Designs Delivered: 100,000+'),\n",
       " Document(metadata={'source': 'data\\\\Uniworld Studios.pdf'}, page_content='\\uf0b7 Designs Delivered: 100,000+ \\n\\uf0b7 Leads Generated: 4.5 Million+ \\n\\uf0b7 Sales Pipeline Created: 2 Billion+ \\n\\uf0b7 Sales Generated: 350 Million+'),\n",
       " Document(metadata={'source': 'data\\\\Uniworld Studios.pdf'}, page_content='\\uf0b7 Sales Generated: 350 Million+ \\nFounder & CEO: Saransh Gupta'),\n",
       " Document(metadata={'source': 'data\\\\Uniworld Studios.pdf'}, page_content='Founder & CEO: Saransh Gupta \\nSaransh Gupta is a dynamic business and marketing expert who delivers key marketing strategies and'),\n",
       " Document(metadata={'source': 'data\\\\Uniworld Studios.pdf'}, page_content='manages business operations at Uniworld Studios. A serial entrepreneur, he has vested interests in'),\n",
       " Document(metadata={'source': 'data\\\\Uniworld Studios.pdf'}, page_content='family-managed Iron & Steel, Real Estate development, and Construction sectors, along with'),\n",
       " Document(metadata={'source': 'data\\\\Uniworld Studios.pdf'}, page_content='establishing education, consultancy, and media wings. His diversified, hands-on managerial'),\n",
       " Document(metadata={'source': 'data\\\\Uniworld Studios.pdf'}, page_content='experience allows him to understand and adopt any business as his own. \\n2. Core Services'),\n",
       " Document(metadata={'source': 'data\\\\Uniworld Studios.pdf'}, page_content='2. Core Services \\nUniworld Studios offers 360° bespoke solutions to create definitive impressions. \\n2.1. Brand Building'),\n",
       " Document(metadata={'source': 'data\\\\Uniworld Studios.pdf'}, page_content='2.1. Brand Building \\nWe handhold your brand from mere existence to flourishing online visibility. Through effective'),\n",
       " Document(metadata={'source': 'data\\\\Uniworld Studios.pdf'}, page_content='storytelling, a 360° actionable marketing strategy, meaningful engagement, and consistent traffic, we'),\n",
       " Document(metadata={'source': 'data\\\\Uniworld Studios.pdf'}, page_content='build your brand to drive optimal results. Our services include Content Marketing, ORM (Online'),\n",
       " Document(metadata={'source': 'data\\\\Uniworld Studios.pdf'}, page_content='Reputation Management), PR Management, and Offline Branding. \\n2.2. Performance Marketing'),\n",
       " Document(metadata={'source': 'data\\\\Uniworld Studios.pdf'}, page_content='2.2. Performance Marketing \\nWith the objective of optimizing ROI for every penny spent, our team designs cost-effective'),\n",
       " Document(metadata={'source': 'data\\\\Uniworld Studios.pdf'}, page_content='campaigns to deliver tangible outcomes. We monitor the latest digital trends and changing consumer'),\n",
       " Document(metadata={'source': 'data\\\\Uniworld Studios.pdf'}, page_content=\"behavior to maximize ROI for your ad spends, with a bull's-eye focus on generating leads, driving \\ntraffic, and building a sales pipeline.\"),\n",
       " Document(metadata={'source': 'data\\\\Uniworld Studios.pdf'}, page_content='traffic, and building a sales pipeline. \\n2.3. Graphics Design'),\n",
       " Document(metadata={'source': 'data\\\\Uniworld Studios.pdf'}, page_content='2.3. Graphics Design \\nFueled by creativity, we use the power of art to inform, connect, inspire, and grow brands.'),\n",
       " Document(metadata={'source': 'data\\\\Uniworld Studios.pdf'}, page_content='Combining traditional and modern marketing methods, we uncover fresh ideas and exceptional'),\n",
       " Document(metadata={'source': 'data\\\\Uniworld Studios.pdf'}, page_content='experiences through design to drive business growth, customer loyalty, and passionate audiences.'),\n",
       " Document(metadata={'source': 'data\\\\Uniworld Studios.pdf'}, page_content='2.4. Web Experiences \\nA website is an experience. Our website architects meticulously craft a seamless web experience for'),\n",
       " Document(metadata={'source': 'data\\\\Uniworld Studios.pdf'}, page_content='all e-visitors, ensuring navigation, transition, and UI/UX are in sync with your business objectives. We'),\n",
       " Document(metadata={'source': 'data\\\\Uniworld Studios.pdf'}, page_content='design and develop visually appealing, technically sound, and strategically planned bespoke \\nWebsites, E-stores, and Landing Pages.'),\n",
       " Document(metadata={'source': 'data\\\\Uniworld Studios.pdf'}, page_content='Websites, E-stores, and Landing Pages. \\n2.5. E-Store Development'),\n",
       " Document(metadata={'source': 'data\\\\Uniworld Studios.pdf'}, page_content='2.5. E-Store Development \\nWe build sound and stunning e-stores that scale your revenue. With expertise in creating seamless'),\n",
       " Document(metadata={'source': 'data\\\\Uniworld Studios.pdf'}, page_content='UI/UX, data-backed content, and high-performing e-commerce stores, we help businesses upscale'),\n",
       " Document(metadata={'source': 'data\\\\Uniworld Studios.pdf'}, page_content='their growth. This leads to widened brand visibility, improved Google ranking, and higher market \\nabsorption. \\n2.6. Content Writing'),\n",
       " Document(metadata={'source': 'data\\\\Uniworld Studios.pdf'}, page_content='absorption. \\n2.6. Content Writing \\nContent is the heart and soul of creativity. We weave stories that create an indelible brand recall'),\n",
       " Document(metadata={'source': 'data\\\\Uniworld Studios.pdf'}, page_content='value with your audiences. Our strategic content writing and marketing expertise helps create high-'),\n",
       " Document(metadata={'source': 'data\\\\Uniworld Studios.pdf'}, page_content='quality editorial content tuned to your business objectives and the ever-evolving SEO landscape to \\ngain maximum traction. \\n2.7. Offline Media'),\n",
       " Document(metadata={'source': 'data\\\\Uniworld Studios.pdf'}, page_content='gain maximum traction. \\n2.7. Offline Media \\nWe market your brand at its core with offline channels like radio, TV ads, and billboards. Our offline'),\n",
       " Document(metadata={'source': 'data\\\\Uniworld Studios.pdf'}, page_content='mediums include Below the Line (BTL) marketing such as pamphlets, posters, and hoardings to ignite'),\n",
       " Document(metadata={'source': 'data\\\\Uniworld Studios.pdf'}, page_content='brand awareness, recognition, and association with the target audience. \\n2.8. Strategic Consulting'),\n",
       " Document(metadata={'source': 'data\\\\Uniworld Studios.pdf'}, page_content='2.8. Strategic Consulting \\nA sound strategy lays the foundation for a thriving business. We help small, medium, and large-scale'),\n",
       " Document(metadata={'source': 'data\\\\Uniworld Studios.pdf'}, page_content='businesses yield desired results with the perfect amalgamation of tailor-made strategies and'),\n",
       " Document(metadata={'source': 'data\\\\Uniworld Studios.pdf'}, page_content='groundbreaking solutions. We customize strategies to bridge internal gaps and bulletproof \\nbusinesses against common market failures.'),\n",
       " Document(metadata={'source': 'data\\\\Uniworld Studios.pdf'}, page_content='businesses against common market failures. \\n3. AI Video Production'),\n",
       " Document(metadata={'source': 'data\\\\Uniworld Studios.pdf'}, page_content='3. AI Video Production \\nAt Uniworld Studios, we transform imagination into immersive reality through our AI-powered media'),\n",
       " Document(metadata={'source': 'data\\\\Uniworld Studios.pdf'}, page_content='production services. We help brands tell unforgettable stories with stunning, studio-quality visuals—'),\n",
       " Document(metadata={'source': 'data\\\\Uniworld Studios.pdf'}, page_content='crafted with precision, speed, and surprising affordability. Our AI arsenal lets us generate images,'),\n",
       " Document(metadata={'source': 'data\\\\Uniworld Studios.pdf'}, page_content='videos, voiceovers, 3D walkthroughs, and dynamic social content. With 95% faster production cycles'),\n",
       " Document(metadata={'source': 'data\\\\Uniworld Studios.pdf'}, page_content='and up to 75% cost savings, we empower visionaries across FMCG, real estate, tech, and beyond. \\n4. Clientele & Portfolio'),\n",
       " Document(metadata={'source': 'data\\\\Uniworld Studios.pdf'}, page_content='4. Clientele & Portfolio \\n4.1. Brand Building Clients \\n\\uf0b7 NutroYumm \\n\\uf0b7 Shine Your Dine \\n\\uf0b7 Visio World \\n\\uf0b7 Tangenz Corporation \\n\\uf0b7 RRPL'),\n",
       " Document(metadata={'source': 'data\\\\Uniworld Studios.pdf'}, page_content=\"\\uf0b7 Elite Entrepreneur’s Club \\n\\uf0b7 Taswiq Fakham \\n\\uf0b7 RentIt4Me \\n\\uf0b7 Winning Mantra \\n\\uf0b7 Succor Trendz \\n\\uf0b7 Peggy Icecream \\n\\uf0b7 Karim's \\n\\uf0b7 Baithak \\n\\uf0b7 Kevin\"),\n",
       " Document(metadata={'source': 'data\\\\Uniworld Studios.pdf'}, page_content=\"\\uf0b7 Peggy Icecream \\n\\uf0b7 Karim's \\n\\uf0b7 Baithak \\n\\uf0b7 Kevin \\n\\uf0b7 The Modern School Faridabad \\n\\uf0b7 Tulip Monsella \\n\\uf0b7 Green Chef \\n\\uf0b7 Bunkoo's \\n\\uf0b7 Huntin Organics\"),\n",
       " Document(metadata={'source': 'data\\\\Uniworld Studios.pdf'}, page_content=\"\\uf0b7 Green Chef \\n\\uf0b7 Bunkoo's \\n\\uf0b7 Huntin Organics \\n\\uf0b7 EP Kamat Group \\n\\uf0b7 Beston \\n\\uf0b7 Delhi Barbeque \\n\\uf0b7 Delon Canada \\n\\uf0b7 Dirty Works \\n\\uf0b7 Midson Capital Ventures\"),\n",
       " Document(metadata={'source': 'data\\\\Uniworld Studios.pdf'}, page_content=\"\\uf0b7 Dirty Works \\n\\uf0b7 Midson Capital Ventures \\n\\uf0b7 Modern Early Years \\n\\uf0b7 Mogu Mogu \\n\\uf0b7 Nature's Absolutes \\n\\uf0b7 The Little Bunting \\n\\uf0b7 The Modern School ECNCR\"),\n",
       " Document(metadata={'source': 'data\\\\Uniworld Studios.pdf'}, page_content='\\uf0b7 The Little Bunting \\n\\uf0b7 The Modern School ECNCR \\n\\uf0b7 Whiteland \\n\\uf0b7 SMR \\n\\uf0b7 TTS \\n\\uf0b7 Tajurba \\n\\uf0b7 Scaler Studios \\n4.2. Web Development Clients'),\n",
       " Document(metadata={'source': 'data\\\\Uniworld Studios.pdf'}, page_content='\\uf0b7 Private Wealth Trust \\n\\uf0b7 PCJS Group \\n\\uf0b7 TnS \\n\\uf0b7 Poojitha \\n\\uf0b7 RRPL \\n\\uf0b7 Dr Suniti Goel \\n\\uf0b7 ESPL \\n\\uf0b7 IELTS Guru \\n\\uf0b7 SMR \\n\\uf0b7 Tiju \\n\\uf0b7 Extreme Engineering'),\n",
       " Document(metadata={'source': 'data\\\\Uniworld Studios.pdf'}, page_content='\\uf0b7 SMR \\n\\uf0b7 Tiju \\n\\uf0b7 Extreme Engineering \\n\\uf0b7 Mekanshi \\n\\uf0b7 Meatington \\n\\uf0b7 Aarnaaz \\n\\uf0b7 Meritus \\n\\uf0b7 NCAER \\n\\uf0b7 Time Hotel \\n\\uf0b7 Becmann \\n\\uf0b7 Tajurba \\n\\uf0b7 AMLTool'),\n",
       " Document(metadata={'source': 'data\\\\Uniworld Studios.pdf'}, page_content='\\uf0b7 Time Hotel \\n\\uf0b7 Becmann \\n\\uf0b7 Tajurba \\n\\uf0b7 AMLTool \\n\\uf0b7 Steel Junction \\n\\uf0b7 The Modern School \\n\\uf0b7 Whiteland Blissville \\n\\uf0b7 Superminis \\n\\uf0b7 Modern Early Years'),\n",
       " Document(metadata={'source': 'data\\\\Uniworld Studios.pdf'}, page_content='\\uf0b7 Superminis \\n\\uf0b7 Modern Early Years \\n\\uf0b7 Taswiq Fakham \\n\\uf0b7 The Brand Bakers \\n\\uf0b7 Plush Kraft \\n\\uf0b7 Tranquillitas \\n\\uf0b7 Kevin Asia \\n\\uf0b7 Apoorvahans'),\n",
       " Document(metadata={'source': 'data\\\\Uniworld Studios.pdf'}, page_content='\\uf0b7 The Modern School Faridabad \\n\\uf0b7 The Little Bunting \\n\\uf0b7 Nature Absolutes \\n\\uf0b7 Bhatiya Alloy \\n\\uf0b7 Tulip Monsella \\n\\uf0b7 Midson Advisors \\n\\uf0b7 Rent It 4 Me'),\n",
       " Document(metadata={'source': 'data\\\\Uniworld Studios.pdf'}, page_content='\\uf0b7 Midson Advisors \\n\\uf0b7 Rent It 4 Me \\n\\uf0b7 Huntin Organics \\n\\uf0b7 Speckyfox \\n\\uf0b7 Oorjit \\n\\uf0b7 Nutroyumm \\n\\uf0b7 Jupa \\n\\uf0b7 Motorhunk \\n\\uf0b7 Flabbye \\n\\uf0b7 Kanodia Global'),\n",
       " Document(metadata={'source': 'data\\\\Uniworld Studios.pdf'}, page_content='\\uf0b7 Jupa \\n\\uf0b7 Motorhunk \\n\\uf0b7 Flabbye \\n\\uf0b7 Kanodia Global \\n\\uf0b7 Tangenz \\n\\uf0b7 Sarantorach \\n\\uf0b7 Kingsway \\n\\uf0b7 Myfinpartner \\n\\uf0b7 Rps Auria Residences \\n\\uf0b7 Dont Hire'),\n",
       " Document(metadata={'source': 'data\\\\Uniworld Studios.pdf'}, page_content='\\uf0b7 Rps Auria Residences \\n\\uf0b7 Dont Hire \\n\\uf0b7 Mint Exports \\n\\uf0b7 White Lilly \\n\\uf0b7 Midson Capital Ventures \\n\\uf0b7 MGNL \\n\\uf0b7 Prabhat Realty \\n\\uf0b7 Arc Corporate Advisors'),\n",
       " Document(metadata={'source': 'data\\\\Uniworld Studios.pdf'}, page_content='\\uf0b7 Prabhat Realty \\n\\uf0b7 Arc Corporate Advisors \\n\\uf0b7 CEO IT Box \\n\\uf0b7 Indian Rishte \\n\\uf0b7 Neeev \\n\\uf0b7 Succor Trendz'),\n",
       " Document(metadata={'source': 'data\\\\Uniworld Studios.pdf'}, page_content='\\uf0b7 Homezstop \\n\\uf0b7 Weight Loss Studios \\n\\uf0b7 VCAJ \\n\\uf0b7 TSI Displays \\n\\uf0b7 SM Easy \\n\\uf0b7 Sant Sujan Singhji International School \\n\\uf0b7 Primordial Center Of Excellence'),\n",
       " Document(metadata={'source': 'data\\\\Uniworld Studios.pdf'}, page_content='\\uf0b7 Primordial Center Of Excellence \\n\\uf0b7 NM Global \\n\\uf0b7 The Modern School ENCR \\n\\uf0b7 Kingdom Of Esther \\n\\uf0b7 Innerform \\n\\uf0b7 GSS Group \\n\\uf0b7 FSSDE \\n\\uf0b7 Ethos Accounting'),\n",
       " Document(metadata={'source': 'data\\\\Uniworld Studios.pdf'}, page_content='\\uf0b7 GSS Group \\n\\uf0b7 FSSDE \\n\\uf0b7 Ethos Accounting \\n\\uf0b7 Darley Engineers \\n\\uf0b7 CXO Exclusive \\n\\uf0b7 An Products \\n\\uf0b7 Businessarin \\n\\uf0b7 Absentia \\n\\uf0b7 Uniworld Studios'),\n",
       " Document(metadata={'source': 'data\\\\Uniworld Studios.pdf'}, page_content='\\uf0b7 Businessarin \\n\\uf0b7 Absentia \\n\\uf0b7 Uniworld Studios \\n4.3. E-Store Clients \\n\\uf0b7 Mekanshi \\n\\uf0b7 Meatington \\n\\uf0b7 Aarnaaz \\n\\uf0b7 Meritus \\n\\uf0b7 Superminis'),\n",
       " Document(metadata={'source': 'data\\\\Uniworld Studios.pdf'}, page_content='\\uf0b7 Meatington \\n\\uf0b7 Aarnaaz \\n\\uf0b7 Meritus \\n\\uf0b7 Superminis \\n\\uf0b7 The little bunting \\n\\uf0b7 Plush Kraft \\n\\uf0b7 Nutroyumm \\n\\uf0b7 Apoorva Hans \\n\\uf0b7 Steel Junction'),\n",
       " Document(metadata={'source': 'data\\\\Uniworld Studios.pdf'}, page_content=\"\\uf0b7 Kevin Asia 2.0 \\n\\uf0b7 Motorhunk \\n\\uf0b7 Jupa \\n\\uf0b7 Oorjit \\n\\uf0b7 Nature's Absolutes \\n\\uf0b7 Succor \\n\\uf0b7 Kevin Asia \\n\\uf0b7 Homezstop \\n\\uf0b7 Mintexports \\n\\uf0b7 Hamaan\"),\n",
       " Document(metadata={'source': 'data\\\\Uniworld Studios.pdf'}, page_content='\\uf0b7 Homezstop \\n\\uf0b7 Mintexports \\n\\uf0b7 Hamaan \\n4.4. Offline Media Portfolio Items \\n\\uf0b7 Brochure \\n\\uf0b7 Carry Bag \\n\\uf0b7 Exhibition Graphics \\n\\uf0b7 Hoarding \\n\\uf0b7 Logo Design'),\n",
       " Document(metadata={'source': 'data\\\\Uniworld Studios.pdf'}, page_content='\\uf0b7 Exhibition Graphics \\n\\uf0b7 Hoarding \\n\\uf0b7 Logo Design \\n\\uf0b7 Magazine Ad \\n\\uf0b7 Newspaper ad \\n\\uf0b7 Packaging \\n\\uf0b7 Pamphlet \\n\\uf0b7 Poster \\n\\uf0b7 Standee \\n\\uf0b7 Stationery'),\n",
       " Document(metadata={'source': 'data\\\\Uniworld Studios.pdf'}, page_content='\\uf0b7 Pamphlet \\n\\uf0b7 Poster \\n\\uf0b7 Standee \\n\\uf0b7 Stationery \\n5. Client Testimonials'),\n",
       " Document(metadata={'source': 'data\\\\Uniworld Studios.pdf'}, page_content='\\uf0b7 Standee \\n\\uf0b7 Stationery \\n5. Client Testimonials \\n\\uf0b7 Dr Suresh Mansharamani, OKR Coach & Co-Founder Tajurba Business Network Pvt Ltd: \"I'),\n",
       " Document(metadata={'source': 'data\\\\Uniworld Studios.pdf'}, page_content='needed help with some high-end websites and Digital Marketing... To my surprise, his'),\n",
       " Document(metadata={'source': 'data\\\\Uniworld Studios.pdf'}, page_content='execution and delivery were exactly what I had expected. He just interpreted my words into \\naction.\"'),\n",
       " Document(metadata={'source': 'data\\\\Uniworld Studios.pdf'}, page_content='action.\" \\n\\uf0b7 Prabal Arora, VP Global Expansion & Angel Investor: \"Team Uniworld helped me with the'),\n",
       " Document(metadata={'source': 'data\\\\Uniworld Studios.pdf'}, page_content='development of the website. They were very responsive throughout the project... I am \\ndelighted with the kind of work they’ve delivered so far.\"'),\n",
       " Document(metadata={'source': 'data\\\\Uniworld Studios.pdf'}, page_content='\\uf0b7 Pawan Singhal, Security Printing: \"I can bet that anybody who sees his work will fall in love'),\n",
       " Document(metadata={'source': 'data\\\\Uniworld Studios.pdf'}, page_content='with it. I highly recommend Saransh Gupta for his niche of web development, digital \\nmarketing, much much more. His concepts are miles ahead.\"'),\n",
       " Document(metadata={'source': 'data\\\\Uniworld Studios.pdf'}, page_content='\\uf0b7 Amit Verma, Global Ayurveda Doctor & Health and Wellness Coach: \"He knows his work'),\n",
       " Document(metadata={'source': 'data\\\\Uniworld Studios.pdf'}, page_content='very well and gives you immediate solution for your issues... i should say i have never seen'),\n",
       " Document(metadata={'source': 'data\\\\Uniworld Studios.pdf'}, page_content='such clean and amazing website in field of ayurveda products.\"'),\n",
       " Document(metadata={'source': 'data\\\\Uniworld Studios.pdf'}, page_content='\\uf0b7 Ashish Ahuja, Director, V Connect Infrastructure Pvt Ltd: \"A great digital partner to be with.'),\n",
       " Document(metadata={'source': 'data\\\\Uniworld Studios.pdf'}, page_content='We found Mr Saransh very professional all the time. His key strategies towards building a \\nbrand has been worth spending.\"'),\n",
       " Document(metadata={'source': 'data\\\\Uniworld Studios.pdf'}, page_content='brand has been worth spending.\" \\n\\uf0b7 Deepak Menda, Proprietor at NM Global Real Estate: \"I recommend saransh for his ability'),\n",
       " Document(metadata={'source': 'data\\\\Uniworld Studios.pdf'}, page_content='to understand and deliver to his clients requirement. I assure everyone that you will get \\nvalue for your money spent when you deal with his firm.\"'),\n",
       " Document(metadata={'source': 'data\\\\Uniworld Studios.pdf'}, page_content='\\uf0b7 Raj Jain, Sales & Marketing: \"I\\'ve known Saransh Gupta and Uniworld Studios for over 3'),\n",
       " Document(metadata={'source': 'data\\\\Uniworld Studios.pdf'}, page_content=\"years and appreciate Saransh's impeccable knowledge in digital and social media to\"),\n",
       " Document(metadata={'source': 'data\\\\Uniworld Studios.pdf'}, page_content='understand client\\'s need. He\\'s also very diligent with his deliveries and flexible in his \\napproach.\" \\n6. Blog & Insights'),\n",
       " Document(metadata={'source': 'data\\\\Uniworld Studios.pdf'}, page_content='approach.\" \\n6. Blog & Insights \\n\\uf0b7 Essential Marketing & Advertising Keywords 2025 (20th August 2025)'),\n",
       " Document(metadata={'source': 'data\\\\Uniworld Studios.pdf'}, page_content='\\uf0b7 Instagram’s Latest Analytics Tools for Creators (18th August 2025) \\n\\uf0b7 Best Independence Day Ads That Inspire India (14th August 2025)'),\n",
       " Document(metadata={'source': 'data\\\\Uniworld Studios.pdf'}, page_content='\\uf0b7 Content Marketing Trends to Watch in 2025 (06th August 2025) \\n7. Contact Information'),\n",
       " Document(metadata={'source': 'data\\\\Uniworld Studios.pdf'}, page_content='7. Contact Information \\n\\uf0b7 India Office: Uniworld Studios Pvt. Ltd. Unit No-416, Fbd One Complex, Sector 37, Faridabad, \\nDelhi NCR, India'),\n",
       " Document(metadata={'source': 'data\\\\Uniworld Studios.pdf'}, page_content='Delhi NCR, India \\n\\uf0b7 Dubai Office: 3306 Concord Tower, Dubai Media City, PO Box 643625, Dubai, United Arab \\nEmirates \\n\\uf0b7 Phone: +91 9810030370'),\n",
       " Document(metadata={'source': 'data\\\\Uniworld Studios.pdf'}, page_content='Emirates \\n\\uf0b7 Phone: +91 9810030370 \\n\\uf0b7 E-mail: info@uniworldstudios.com')]"
      ]
     },
     "execution_count": 53,
     "metadata": {},
     "output_type": "execute_result"
    }
   ],
   "source": [
    "text_chunk"
   ]
  },
  {
   "cell_type": "code",
   "execution_count": 54,
   "metadata": {},
   "outputs": [],
   "source": [
    "from langchain_huggingface import HuggingFaceEmbeddings\n",
    "\n",
    "def download_embeddings():\n",
    "    model_name = \"sentence-transformers/all-MiniLM-L6-v2\"\n",
    "    embeddings = HuggingFaceEmbeddings(\n",
    "        model_name = model_name\n",
    "    )\n",
    "    return embeddings\n",
    "\n",
    "embedding = download_embeddings()"
   ]
  },
  {
   "cell_type": "code",
   "execution_count": 55,
   "metadata": {},
   "outputs": [
    {
     "data": {
      "text/plain": [
       "HuggingFaceEmbeddings(model_name='sentence-transformers/all-MiniLM-L6-v2', cache_folder=None, model_kwargs={}, encode_kwargs={}, query_encode_kwargs={}, multi_process=False, show_progress=False)"
      ]
     },
     "execution_count": 55,
     "metadata": {},
     "output_type": "execute_result"
    }
   ],
   "source": [
    "embedding"
   ]
  },
  {
   "cell_type": "code",
   "execution_count": 56,
   "metadata": {},
   "outputs": [
    {
     "data": {
      "text/plain": [
       "[0.03809228911995888,\n",
       " -0.025415385141968727,\n",
       " 0.051142480224370956,\n",
       " 0.002041621832177043,\n",
       " 0.06559532135725021,\n",
       " 0.055631693452596664,\n",
       " 0.04082754626870155,\n",
       " -0.059887416660785675,\n",
       " 0.00482234125956893,\n",
       " -0.026000911369919777,\n",
       " 0.1026691198348999,\n",
       " -0.050836432725191116,\n",
       " 0.03576919436454773,\n",
       " 0.042771607637405396,\n",
       " -0.07258523255586624,\n",
       " 0.016767244786024094,\n",
       " 0.09894763678312302,\n",
       " -0.020347049459815025,\n",
       " -0.05005906894803047,\n",
       " -0.011608455330133438,\n",
       " -0.02494693547487259,\n",
       " -0.003961370792239904,\n",
       " 0.06463190913200378,\n",
       " -0.0752919390797615,\n",
       " 0.04063158854842186,\n",
       " 0.00020833671442233026,\n",
       " -0.05909157544374466,\n",
       " 0.047096945345401764,\n",
       " 0.07448336482048035,\n",
       " -0.044449567794799805,\n",
       " 0.04908823221921921,\n",
       " -0.022806962952017784,\n",
       " -0.018487900495529175,\n",
       " 0.060960110276937485,\n",
       " 0.08270759135484695,\n",
       " 0.04944857954978943,\n",
       " 0.06621485203504562,\n",
       " -0.019914694130420685,\n",
       " -0.007532747462391853,\n",
       " 0.015988439321517944,\n",
       " -0.0008673770353198051,\n",
       " -0.0686541348695755,\n",
       " 0.016207829117774963,\n",
       " 0.029175611212849617,\n",
       " 0.042859334498643875,\n",
       " -0.024047521874308586,\n",
       " -0.05744831636548042,\n",
       " -0.016403498128056526,\n",
       " -0.08388198167085648,\n",
       " -0.007499173283576965,\n",
       " -0.029632532969117165,\n",
       " -0.02658037282526493,\n",
       " -0.05008993670344353,\n",
       " -0.061831362545490265,\n",
       " -0.030157336965203285,\n",
       " 0.006005364470183849,\n",
       " -0.020852668210864067,\n",
       " -0.039324019104242325,\n",
       " 0.06635379791259766,\n",
       " -0.004411345347762108,\n",
       " 0.028245270252227783,\n",
       " -0.030814139172434807,\n",
       " 0.009873004630208015,\n",
       " 0.04435180127620697,\n",
       " 0.06908944994211197,\n",
       " -0.02257182076573372,\n",
       " -0.04629237577319145,\n",
       " -0.019940370693802834,\n",
       " -0.06838418543338776,\n",
       " 0.039201389998197556,\n",
       " -0.0003531617985572666,\n",
       " 0.04532735422253609,\n",
       " -0.032754987478256226,\n",
       " 0.013765409588813782,\n",
       " -0.05448247119784355,\n",
       " 0.008018232882022858,\n",
       " 0.02163473330438137,\n",
       " -0.1245889812707901,\n",
       " 0.13398423790931702,\n",
       " -0.0827990248799324,\n",
       " -0.000835310434922576,\n",
       " -0.07171649485826492,\n",
       " -0.041426654905080795,\n",
       " -0.004977695178240538,\n",
       " 0.05540899932384491,\n",
       " 0.032859742641448975,\n",
       " 0.0452389270067215,\n",
       " -0.12420564144849777,\n",
       " -0.11017047613859177,\n",
       " 0.020339064300060272,\n",
       " 0.03965572640299797,\n",
       " -0.024438519030809402,\n",
       " -0.022518347948789597,\n",
       " 0.07581894099712372,\n",
       " 0.007925649173557758,\n",
       " 7.877041934989393e-05,\n",
       " -0.06532963365316391,\n",
       " 0.025130480527877808,\n",
       " 0.012617277912795544,\n",
       " 0.10098091512918472,\n",
       " -0.02050536870956421,\n",
       " 0.022613829001784325,\n",
       " 0.09686394035816193,\n",
       " -0.0126897431910038,\n",
       " -0.07911574095487595,\n",
       " -0.08333850651979446,\n",
       " 0.024812502786517143,\n",
       " 0.012142274528741837,\n",
       " -0.014340904541313648,\n",
       " -0.05246402695775032,\n",
       " -0.04999836906790733,\n",
       " -0.036096278578042984,\n",
       " 0.012789216823875904,\n",
       " 0.05764482170343399,\n",
       " -0.026720447465777397,\n",
       " -0.05814922973513603,\n",
       " 0.004944621119648218,\n",
       " 0.020026089623570442,\n",
       " -0.010992678813636303,\n",
       " 0.04020757973194122,\n",
       " 0.05075206235051155,\n",
       " 0.09715942293405533,\n",
       " -0.024512218311429024,\n",
       " -0.005213500466197729,\n",
       " 0.005282251164317131,\n",
       " -0.12340492010116577,\n",
       " 0.054711535573005676,\n",
       " -3.654277288158492e-33,\n",
       " 0.02662508562207222,\n",
       " -0.0577135793864727,\n",
       " -0.0006455503753386438,\n",
       " 0.04653291776776314,\n",
       " 0.0360465906560421,\n",
       " 0.00829499401152134,\n",
       " -0.05152449756860733,\n",
       " 0.150347039103508,\n",
       " -0.12156211584806442,\n",
       " -0.005137300584465265,\n",
       " -0.04241079464554787,\n",
       " -0.02529500052332878,\n",
       " -0.030268143862485886,\n",
       " 0.10735315829515457,\n",
       " 0.03107423149049282,\n",
       " 0.07109861075878143,\n",
       " -0.003098194720223546,\n",
       " 0.01203785091638565,\n",
       " -0.057582322508096695,\n",
       " 0.03091069497168064,\n",
       " -0.02545000985264778,\n",
       " -0.022251348942518234,\n",
       " -0.04344773665070534,\n",
       " -0.11811541020870209,\n",
       " -0.13872070610523224,\n",
       " -0.07351343333721161,\n",
       " 0.03815983608365059,\n",
       " -0.06125440448522568,\n",
       " -0.0690992921590805,\n",
       " 0.02006622776389122,\n",
       " -0.11615218967199326,\n",
       " -0.049004461616277695,\n",
       " -0.045529671013355255,\n",
       " 0.0197303369641304,\n",
       " 0.04944639652967453,\n",
       " 0.03335824981331825,\n",
       " 0.0690707266330719,\n",
       " -0.010836093686521053,\n",
       " -0.055519577115774155,\n",
       " -0.007614621426910162,\n",
       " -0.006412713322788477,\n",
       " -0.02366594225168228,\n",
       " -0.007072386331856251,\n",
       " -0.007616256829351187,\n",
       " 0.011693730019032955,\n",
       " 0.021693548187613487,\n",
       " 0.026197679340839386,\n",
       " 0.009673609398305416,\n",
       " -0.0156757403165102,\n",
       " 0.005920172668993473,\n",
       " 0.04068337008357048,\n",
       " 0.056217581033706665,\n",
       " 0.026329640299081802,\n",
       " -0.05049358308315277,\n",
       " 0.06909047812223434,\n",
       " 0.011830545030534267,\n",
       " -0.036165229976177216,\n",
       " 0.05584477633237839,\n",
       " 0.020517122000455856,\n",
       " 0.012980344705283642,\n",
       " -0.04205154627561569,\n",
       " -0.012482630088925362,\n",
       " -0.0012011027429252863,\n",
       " 0.009499193169176579,\n",
       " -0.018774736672639847,\n",
       " 0.01856546849012375,\n",
       " -0.05661778897047043,\n",
       " -0.03893882781267166,\n",
       " 0.1196889877319336,\n",
       " 0.044878628104925156,\n",
       " -0.04897985979914665,\n",
       " 0.013003065250813961,\n",
       " -0.02218315377831459,\n",
       " 0.077128566801548,\n",
       " -0.02924318239092827,\n",
       " -0.0022948889527469873,\n",
       " -0.05876743420958519,\n",
       " -0.0011605725158005953,\n",
       " -0.006658658850938082,\n",
       " 0.026217736303806305,\n",
       " 0.03634284436702728,\n",
       " -0.09401975572109222,\n",
       " 0.013952787965536118,\n",
       " -0.011559037491679192,\n",
       " -0.09221410751342773,\n",
       " -0.12214048951864243,\n",
       " 0.029418393969535828,\n",
       " -0.12217243015766144,\n",
       " 0.05000840499997139,\n",
       " 0.08036129921674728,\n",
       " 0.03527101129293442,\n",
       " -0.0028747492469847202,\n",
       " -0.04214734956622124,\n",
       " -0.05960633233189583,\n",
       " 0.08132294565439224,\n",
       " 9.817228314613684e-34,\n",
       " -0.009563318453729153,\n",
       " 0.07690420001745224,\n",
       " -0.046721793711185455,\n",
       " 0.0956682562828064,\n",
       " 0.0065232147462666035,\n",
       " -0.006612857338041067,\n",
       " 0.02624485269188881,\n",
       " 0.050785113126039505,\n",
       " -0.031831130385398865,\n",
       " 0.10337495058774948,\n",
       " -0.01722860336303711,\n",
       " -0.02053377777338028,\n",
       " 0.021701710298657417,\n",
       " -0.05541598051786423,\n",
       " -0.0034707430750131607,\n",
       " 0.04297586530447006,\n",
       " -0.018529528751969337,\n",
       " -0.03674403578042984,\n",
       " 0.007866310887038708,\n",
       " 0.07428495585918427,\n",
       " -0.019214967265725136,\n",
       " 0.10595394670963287,\n",
       " 0.03501436486840248,\n",
       " 0.09325630962848663,\n",
       " 0.012077252380549908,\n",
       " 0.09451288729906082,\n",
       " 0.01781461015343666,\n",
       " -0.030874134972691536,\n",
       " -0.03811625391244888,\n",
       " 0.01674054190516472,\n",
       " 0.04240107908844948,\n",
       " -0.0253945030272007,\n",
       " -0.09543506801128387,\n",
       " 0.04153263941407204,\n",
       " -0.0036182114854454994,\n",
       " -0.0025231544859707355,\n",
       " 0.12862788140773773,\n",
       " -0.00752283213660121,\n",
       " -0.00066913734190166,\n",
       " -0.006282229442149401,\n",
       " 0.07327409833669662,\n",
       " 0.04872995987534523,\n",
       " -0.07589879631996155,\n",
       " 0.07497488707304001,\n",
       " 0.018813058733940125,\n",
       " -0.04337792471051216,\n",
       " -0.026599565520882607,\n",
       " -0.034462276846170425,\n",
       " 0.07061056792736053,\n",
       " 0.014430866576731205,\n",
       " -0.10441349446773529,\n",
       " -0.008295850828289986,\n",
       " -0.031077323481440544,\n",
       " 0.003825828433036804,\n",
       " -0.018108118325471878,\n",
       " 0.005968928802758455,\n",
       " -0.029328612610697746,\n",
       " -0.0582234151661396,\n",
       " -0.010631074197590351,\n",
       " -0.014510724693536758,\n",
       " -0.04506797343492508,\n",
       " -0.008484991267323494,\n",
       " 0.007800715044140816,\n",
       " -0.07775720208883286,\n",
       " 0.07047981023788452,\n",
       " -0.09687809646129608,\n",
       " -0.026185689494013786,\n",
       " 0.096017986536026,\n",
       " 0.019183246418833733,\n",
       " -0.04535394906997681,\n",
       " 0.02062741108238697,\n",
       " -0.003826899453997612,\n",
       " -0.040106963366270065,\n",
       " 0.01970948465168476,\n",
       " 0.02801688015460968,\n",
       " -0.04130128026008606,\n",
       " 0.05265720561146736,\n",
       " 0.007719347253441811,\n",
       " 0.0351974219083786,\n",
       " -0.06452339887619019,\n",
       " 0.006360863335430622,\n",
       " -0.11194346845149994,\n",
       " 0.0025682488922029734,\n",
       " 0.01940051279962063,\n",
       " 0.00461882958188653,\n",
       " 0.04935382679104805,\n",
       " 0.01060453336685896,\n",
       " -0.019557299092411995,\n",
       " -0.028542011976242065,\n",
       " 0.014573416672647,\n",
       " 0.030495405197143555,\n",
       " 0.006670510862022638,\n",
       " -0.033343516290187836,\n",
       " 0.049479253590106964,\n",
       " 0.03612809628248215,\n",
       " -1.9677267815154664e-08,\n",
       " -0.035672448575496674,\n",
       " -0.024608688428997993,\n",
       " 0.0051980409771203995,\n",
       " -0.01220326591283083,\n",
       " -0.06560605764389038,\n",
       " -0.033287327736616135,\n",
       " 0.052277322858572006,\n",
       " -0.0546724908053875,\n",
       " -0.03780262544751167,\n",
       " -0.022370874881744385,\n",
       " 0.05061887204647064,\n",
       " 0.03651620075106621,\n",
       " -0.06948933005332947,\n",
       " 0.008232458494603634,\n",
       " 0.03318990767002106,\n",
       " -0.03299916163086891,\n",
       " -0.035347260534763336,\n",
       " 0.006916962098330259,\n",
       " -0.0013980506919324398,\n",
       " 0.09191591292619705,\n",
       " -0.008881950750946999,\n",
       " 0.08383706212043762,\n",
       " 0.04629248380661011,\n",
       " 0.04022005572915077,\n",
       " -0.08852233737707138,\n",
       " 0.00648308964446187,\n",
       " -0.0186077319085598,\n",
       " 0.0012409540358930826,\n",
       " 0.038377489894628525,\n",
       " 0.018873097375035286,\n",
       " 0.10105517506599426,\n",
       " 0.12410908192396164,\n",
       " -0.05551571771502495,\n",
       " -0.06758421659469604,\n",
       " -0.08300809562206268,\n",
       " 0.08583618700504303,\n",
       " 0.06009182706475258,\n",
       " -0.08042770624160767,\n",
       " -0.007363796699792147,\n",
       " -0.019733354449272156,\n",
       " 0.03634730353951454,\n",
       " -0.00804505031555891,\n",
       " -0.03666827455163002,\n",
       " -0.014697622507810593,\n",
       " 0.06672497093677521,\n",
       " -0.028715139254927635,\n",
       " 0.05236845090985298,\n",
       " -0.03145052120089531,\n",
       " -0.009217845275998116,\n",
       " -0.06913118064403534,\n",
       " 0.01254757959395647,\n",
       " -0.06962990015745163,\n",
       " 0.004853290040045977,\n",
       " -0.007350554224103689,\n",
       " -0.012789844535291195,\n",
       " -0.04285775497555733,\n",
       " -0.011853066273033619,\n",
       " 0.028135638684034348,\n",
       " -0.04656248912215233,\n",
       " 0.012428765185177326,\n",
       " 0.022344592958688736,\n",
       " 0.05936606973409653,\n",
       " 0.08010761439800262,\n",
       " -0.04331604763865471]"
      ]
     },
     "execution_count": 56,
     "metadata": {},
     "output_type": "execute_result"
    }
   ],
   "source": [
    "vector = embedding.embed_query(\"This is a test sentence to check embedding\")\n",
    "vector"
   ]
  },
  {
   "cell_type": "code",
   "execution_count": 57,
   "metadata": {},
   "outputs": [
    {
     "name": "stdout",
     "output_type": "stream",
     "text": [
      "Vector length: 384\n"
     ]
    }
   ],
   "source": [
    "print(\"Vector length:\", len(vector))"
   ]
  },
  {
   "cell_type": "code",
   "execution_count": 58,
   "metadata": {},
   "outputs": [],
   "source": [
    "from dotenv import load_dotenv\n",
    "load_dotenv()\n",
    "import os"
   ]
  },
  {
   "cell_type": "code",
   "execution_count": 59,
   "id": "40aeea70",
   "metadata": {},
   "outputs": [],
   "source": [
    "PINECONE_API_KEY = os.getenv(\"PINECONE_API_KEY\")\n",
    "GROQ_API_KEY = os.getenv(\"GROQ_API_KEY\")\n",
    "\n",
    "os.environ[\"PINECONE_API_KEY\"] = PINECONE_API_KEY\n",
    "os.environ[\"GROQ_API_KEY\"] = GROQ_API_KEY"
   ]
  },
  {
   "cell_type": "code",
   "execution_count": 60,
   "metadata": {},
   "outputs": [
    {
     "data": {
      "text/plain": [
       "<pinecone.pinecone.Pinecone at 0x1bd75219310>"
      ]
     },
     "execution_count": 60,
     "metadata": {},
     "output_type": "execute_result"
    }
   ],
   "source": [
    "from pinecone import Pinecone\n",
    "\n",
    "pinecone_api_key = PINECONE_API_KEY\n",
    "\n",
    "pc = Pinecone(api_key=pinecone_api_key)\n",
    "pc"
   ]
  },
  {
   "cell_type": "code",
   "execution_count": 61,
   "metadata": {},
   "outputs": [],
   "source": [
    "# Creating Pinecone Index\n",
    "from pinecone import ServerlessSpec\n",
    "\n",
    "index_name = \"unibot\"\n",
    "\n",
    "if not pc.has_index(index_name):\n",
    "    pc.create_index(\n",
    "        name = index_name,\n",
    "        dimension = 384,\n",
    "        metric = \"cosine\",\n",
    "        spec = ServerlessSpec(cloud=\"aws\", region=\"us-east-1\")\n",
    "    )\n",
    "\n",
    "index = pc.Index(index_name)"
   ]
  },
  {
   "cell_type": "code",
   "execution_count": 62,
   "id": "71e4eea2",
   "metadata": {},
   "outputs": [],
   "source": [
    "from langchain_pinecone import PineconeVectorStore\n",
    "\n",
    "docsearch = PineconeVectorStore.from_documents(\n",
    "    documents=text_chunk,\n",
    "    embedding=embedding,\n",
    "    index_name=index_name\n",
    ")"
   ]
  },
  {
   "cell_type": "code",
   "execution_count": 63,
   "id": "02e2fc6c",
   "metadata": {},
   "outputs": [],
   "source": [
    "# Load Existing Index form Pinecone and use that index\n",
    "from langchain_pinecone import PineconeVectorStore\n",
    "\n",
    "docsearch = PineconeVectorStore.from_existing_index(\n",
    "    index_name=index_name,\n",
    "    embedding=embedding\n",
    ")"
   ]
  },
  {
   "cell_type": "markdown",
   "id": "e5e2e5a3",
   "metadata": {},
   "source": [
    "# Add more data into the existing index\n"
   ]
  },
  {
   "cell_type": "code",
   "execution_count": 64,
   "metadata": {},
   "outputs": [],
   "source": [
    "sample = Document(\n",
    "    page_content=\"This is a sample data to be upserted in the existing index\",\n",
    "    metadata={\"source\": \"My gut feeling\"}\n",
    ")"
   ]
  },
  {
   "cell_type": "code",
   "execution_count": 65,
   "id": "8e5373c6",
   "metadata": {},
   "outputs": [
    {
     "data": {
      "text/plain": [
       "['281c9e2b-f637-4b35-9f48-8a24c0d7487e']"
      ]
     },
     "execution_count": 65,
     "metadata": {},
     "output_type": "execute_result"
    }
   ],
   "source": [
    "docsearch.add_documents(documents=[sample])"
   ]
  },
  {
   "cell_type": "code",
   "execution_count": 66,
   "metadata": {},
   "outputs": [],
   "source": [
    "retriever = docsearch.as_retriever(search_type=\"similarity\", search_kwargs={\"k\":3})"
   ]
  },
  {
   "cell_type": "code",
   "execution_count": 67,
   "id": "47dc21fd",
   "metadata": {},
   "outputs": [
    {
     "data": {
      "text/plain": [
       "[Document(id='0447a35b-830a-4eb1-ba38-ae29109747fe', metadata={'source': 'data\\\\Uniworld Studios.pdf'}, page_content='Uniworld Studios: Company Profile and Services \\n1. Company Overview'),\n",
       " Document(id='0e2086b1-5784-4b43-ba1b-2708e071dda4', metadata={'source': 'data\\\\Uniworld Studios.pdf'}, page_content='Uniworld Studios: Company Profile and Services \\n1. Company Overview'),\n",
       " Document(id='8ab799ca-bf83-4eca-a3de-96c5269d7a7b', metadata={'source': 'data\\\\Uniworld Studios.pdf'}, page_content='Uniworld Studios: Company Profile and Services \\n1. Company Overview')]"
      ]
     },
     "execution_count": 67,
     "metadata": {},
     "output_type": "execute_result"
    }
   ],
   "source": [
    "retrieved_docs = retriever.invoke(\"What services does uniworld provide?\")\n",
    "retrieved_docs"
   ]
  },
  {
   "cell_type": "code",
   "execution_count": 81,
   "metadata": {},
   "outputs": [],
   "source": [
    "from langchain_groq import ChatGroq\n",
    "\n",
    "chatModel = ChatGroq(model=\"openai/gpt-oss-120b\")"
   ]
  },
  {
   "cell_type": "code",
   "execution_count": 82,
   "id": "b0fa6243",
   "metadata": {},
   "outputs": [],
   "source": [
    "from langchain.chains import create_retrieval_chain\n",
    "from langchain.chains.combine_documents import create_stuff_documents_chain\n",
    "from langchain_core.prompts import ChatPromptTemplate\n",
    "\n"
   ]
  },
  {
   "cell_type": "code",
   "execution_count": 84,
   "metadata": {},
   "outputs": [],
   "source": [
    "system_prompt = (\n",
    "\"\"\"   \n",
    "You are a helpful assistant for Uniworld Studios.\n",
    "Your job is to answer the user's question **only** using the information provided in the context below.\n",
    "\n",
    "{context}\n",
    "\"\"\"\n",
    ")\n",
    "\n",
    "prompt = ChatPromptTemplate.from_messages(\n",
    "    [\n",
    "        (\"system\", system_prompt),\n",
    "        (\"human\", \"{input}\")\n",
    "    ]\n",
    ")"
   ]
  },
  {
   "cell_type": "code",
   "execution_count": 85,
   "id": "7170cc5e",
   "metadata": {},
   "outputs": [],
   "source": [
    "QnA_chain = create_stuff_documents_chain(chatModel, prompt)\n",
    "rag_chain = create_retrieval_chain(retriever, QnA_chain)"
   ]
  },
  {
   "cell_type": "code",
   "execution_count": 86,
   "id": "ba32e83c",
   "metadata": {},
   "outputs": [
    {
     "name": "stdout",
     "output_type": "stream",
     "text": [
      "I’m sorry, but the provided context does not contain any details about Uniworld Studios’ company overview.\n"
     ]
    }
   ],
   "source": [
    "response = rag_chain.invoke({\"input\": \"Give me company overview\"})\n",
    "print(response[\"answer\"])"
   ]
  },
  {
   "cell_type": "code",
   "execution_count": 87,
   "id": "488ecfb3",
   "metadata": {},
   "outputs": [
    {
     "name": "stdout",
     "output_type": "stream",
     "text": [
      "The sample sentence is:\n",
      "\n",
      "**“This is a sample data to be upserted in the existing index.”**\n"
     ]
    }
   ],
   "source": [
    "response = rag_chain.invoke({\"input\": \"what is the sample sentence\"})\n",
    "print(response[\"answer\"])"
   ]
  },
  {
   "cell_type": "code",
   "execution_count": null,
   "metadata": {},
   "outputs": [],
   "source": []
  }
 ],
 "metadata": {
  "kernelspec": {
   "display_name": "unibot",
   "language": "python",
   "name": "python3"
  },
  "language_info": {
   "codemirror_mode": {
    "name": "ipython",
    "version": 3
   },
   "file_extension": ".py",
   "mimetype": "text/x-python",
   "name": "python",
   "nbconvert_exporter": "python",
   "pygments_lexer": "ipython3",
   "version": "3.11.8"
  }
 },
 "nbformat": 4,
 "nbformat_minor": 5
}
